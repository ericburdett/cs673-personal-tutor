{
  "nbformat": 4,
  "nbformat_minor": 0,
  "metadata": {
    "colab": {
      "name": "Personal-Tutor.ipynb",
      "provenance": [],
      "authorship_tag": "ABX9TyPeoIVCxmUl4WxBmFDii/Mc",
      "include_colab_link": true
    },
    "kernelspec": {
      "name": "python3",
      "display_name": "Python 3"
    },
    "accelerator": "GPU"
  },
  "cells": [
    {
      "cell_type": "markdown",
      "metadata": {
        "id": "view-in-github",
        "colab_type": "text"
      },
      "source": [
        "<a href=\"https://colab.research.google.com/github/ericburdett/cs673-personal-tutor/blob/master/Personal_Tutor.ipynb\" target=\"_parent\"><img src=\"https://colab.research.google.com/assets/colab-badge.svg\" alt=\"Open In Colab\"/></a>"
      ]
    },
    {
      "cell_type": "markdown",
      "metadata": {
        "id": "ngPwFJK2Q3is",
        "colab_type": "text"
      },
      "source": [
        "# Personal Tutor\n",
        "\n",
        "This notebook contains code for the Personal Tutor System built for CS673: Computational Creativity.\n"
      ]
    },
    {
      "cell_type": "markdown",
      "metadata": {
        "id": "jVLsHt3cguG_",
        "colab_type": "text"
      },
      "source": [
        "## Imports and Setup\n",
        "\n",
        "Restart the Runtime after running the top code block."
      ]
    },
    {
      "cell_type": "code",
      "metadata": {
        "id": "rObf9AtbBg0a",
        "colab_type": "code",
        "colab": {}
      },
      "source": [
        "!pip install transformers\n",
        "!python -m spacy download en_core_web_md"
      ],
      "execution_count": 0,
      "outputs": []
    },
    {
      "cell_type": "code",
      "metadata": {
        "id": "geqLGvzog5eV",
        "colab_type": "code",
        "colab": {}
      },
      "source": [
        "import torch\n",
        "import torch.nn.functional as F\n",
        "import pdb\n",
        "import string\n",
        "from transformers import GPT2Tokenizer, GPT2LMHeadModel\n",
        "import spacy\n",
        "import numpy as np\n",
        "# # OPTIONAL: if you want to have more information on what's happening, activate the logger as follows\n",
        "# import logging\n",
        "# logging.basicConfig(level=logging.INFO)"
      ],
      "execution_count": 0,
      "outputs": []
    },
    {
      "cell_type": "markdown",
      "metadata": {
        "id": "UoHU-CcRhB2V",
        "colab_type": "text"
      },
      "source": [
        "## GPT2 - Transformers Example\n"
      ]
    },
    {
      "cell_type": "code",
      "metadata": {
        "id": "dCnqEfFwhiX0",
        "colab_type": "code",
        "colab": {}
      },
      "source": [
        "class LanguageModel():\n",
        "  def __init__(self, mask=None, k=50):\n",
        "    self.model = GPT2LMHeadModel.from_pretrained('distilgpt2').cuda()\n",
        "    self.tokenizer = GPT2Tokenizer.from_pretrained('distilgpt2')\n",
        "    self.k = k\n",
        "    self.mask = mask\n",
        "\n",
        "  def top_k_logits(self, logits):\n",
        "    if self.k == 0:\n",
        "        return logits\n",
        "    values, _ = torch.topk(logits, self.k)\n",
        "    min_values = values[-1]\n",
        "    return torch.where(logits < min_values, torch.ones_like(logits, dtype=logits.dtype) * -1e10, logits)\n",
        "\n",
        "  def set_mask(self, mask):\n",
        "    self.mask = mask\n",
        "\n",
        "  def get_sentence(self, prompt, length):\n",
        "    generated = self.tokenizer.encode(prompt)\n",
        "    context = torch.tensor([generated]).cuda()\n",
        "\n",
        "    past = None\n",
        "\n",
        "    for i in range(length):\n",
        "      output, past = self.model(context, past=past)\n",
        "      \n",
        "      logits = output[..., -1, :].squeeze()\n",
        "\n",
        "      topk_logits = self.top_k_logits(logits)\n",
        "      topk_log_probs = F.softmax(topk_logits, dim=-1)\n",
        "      token = torch.multinomial(topk_log_probs, num_samples=1)\n",
        "\n",
        "      generated += [token.item()]\n",
        "      context = token.unsqueeze(0)\n",
        "    \n",
        "    sequence = self.tokenizer.decode(generated)\n",
        "\n",
        "    end_index = len(prompt.split('.'))\n",
        "\n",
        "    return \".\".join(sequence.split('.')[0:end_index]) + '.'"
      ],
      "execution_count": 0,
      "outputs": []
    },
    {
      "cell_type": "code",
      "metadata": {
        "id": "6916GMHuZMYZ",
        "colab_type": "code",
        "colab": {}
      },
      "source": [
        "class Evaluator():\n",
        "  def __init__(self):\n",
        "    pass\n",
        "\n",
        "  def get_keywords(self, sentence_doc):\n",
        "    # Find Nouns and Adjectives\n",
        "    keywords = []\n",
        "    for token in sentence_doc:\n",
        "      pos = token.pos\n",
        "      if pos in [92, 96]: # NOUN, PNOUN, ADJ , 84\n",
        "         keywords.append(token)\n",
        "    \n",
        "    return keywords\n",
        "\n",
        "  def get_random_pairs(arr, size):\n",
        "    pairs = []\n",
        "\n",
        "    try:\n",
        "      for i in range(size):\n",
        "        pair = np.random.choice(arr, size=2, replace=False)\n",
        "        pairs.append(pair)\n",
        "    except:\n",
        "      return None\n",
        "\n",
        "    return pairs\n",
        "\n",
        "  def word_length_score(self, sentence_doc):\n",
        "    num_words = len(sentence_doc)\n",
        "\n",
        "    target_high = 10\n",
        "    target_low = 6\n",
        "\n",
        "    if num_words >= target_low and num_words <= target_high:\n",
        "      return .8\n",
        "    elif num_words + 1 >= target_low:\n",
        "      return .6\n",
        "    elif num_words + 2 >= target_low:\n",
        "      return .4\n",
        "    elif num_words + 3 >= target_low:\n",
        "      return .2\n",
        "    elif num_words - 2 <= target_high:\n",
        "      return .6\n",
        "    elif num_words - 4 <= target_high:\n",
        "      return .4\n",
        "    elif num_words - 6 <= target_high:\n",
        "      return .2\n",
        "    elif num_words - 10 <= target_high:\n",
        "      return .1\n",
        "    else:\n",
        "      return 0\n",
        "\n",
        "  def topic_score(self, sentence_doc, topic_doc):\n",
        "    keywords = self.get_keywords(sentence_doc)\n",
        "    if len(keywords) < 2:\n",
        "      return 0\n",
        "\n",
        "    similarities = []\n",
        "    for keyword in keywords:\n",
        "      similarity = topic_doc.similarity(keyword)\n",
        "      similarities.append(similarity)\n",
        "\n",
        "    return np.mean(similarities)\n",
        "  \n",
        "  def related_score(self, sentence_doc):\n",
        "    keywords = self.get_keywords(sentence_doc)\n",
        "\n",
        "    # Sample Random Pairs\n",
        "    pairs = get_random_pairs(keywords, 10) # 10 seems like a good number for now...\n",
        "    if pairs == None or len(pairs) == 0:\n",
        "      return 0\n",
        "\n",
        "    # Check Similarity\n",
        "    similarities = []\n",
        "    for pair in pairs:\n",
        "\n",
        "      if pair[0].vector_norm and pair[1].vector_norm:\n",
        "        similarity = pair[0].similarity(pair[1])\n",
        "      else:\n",
        "        similarity = 0\n",
        "\n",
        "      if similarity >= 1: # Do not give a high similarity score if we are comparing a word with itself\n",
        "        similarity = 0\n",
        "\n",
        "      similarities.append(similarity)\n",
        "      # print('Comparing {} with {}, score: {:.4f}'.format(pair[0], pair[1], similarity))\n",
        "    \n",
        "    # print(similarities)\n",
        "\n",
        "    return np.mean(similarities)"
      ],
      "execution_count": 0,
      "outputs": []
    },
    {
      "cell_type": "code",
      "metadata": {
        "id": "TE9kVYrcTU9g",
        "colab_type": "code",
        "colab": {}
      },
      "source": [
        "def remove_prompt(sentence, prompt):\n",
        "  new_sentence = sentence.split(prompt)\n",
        "  if len(new_sentence) < 2:\n",
        "    return ''\n",
        "  else:\n",
        "    return sentence.split(prompt)[1]"
      ],
      "execution_count": 0,
      "outputs": []
    },
    {
      "cell_type": "code",
      "metadata": {
        "id": "RdHhxDUhBmeL",
        "colab_type": "code",
        "colab": {}
      },
      "source": [
        "LM = LanguageModel(k=10)\n",
        "EVAL = Evaluator()\n",
        "NLP = spacy.load('en_core_web_md')"
      ],
      "execution_count": 0,
      "outputs": []
    },
    {
      "cell_type": "code",
      "metadata": {
        "id": "KYjUir_bBJZc",
        "colab_type": "code",
        "colab": {
          "base_uri": "https://localhost:8080/",
          "height": 972
        },
        "outputId": "c9af1a32-b0ac-4509-8264-2ddddf2fb1b1"
      },
      "source": [
        "# Main App Loop\n",
        "NUM_SENTENCES = 50\n",
        "MAX_SENTENCE_LENGTH = 35\n",
        "TOPIC = 'Sports'\n",
        "\n",
        "topic_doc = NLP(TOPIC)\n",
        "prompts = ['Basketball is']\n",
        "prompts_truncate = [False]\n",
        "\n",
        "while True:\n",
        "\n",
        "  best_score = 0\n",
        "  best_sentence = ''\n",
        "\n",
        "  for i in range(NUM_SENTENCES):\n",
        "    rand_index = np.random.randint(len(prompts))\n",
        "    sentence_prompt = prompts[rand_index]\n",
        "    should_truncate = prompts_truncate[rand_index]\n",
        "    \n",
        "    sentence = LM.get_sentence(sentence_prompt, MAX_SENTENCE_LENGTH)\n",
        "    if should_truncate:\n",
        "      sentence = remove_prompt(sentence, sentence_prompt)\n",
        "    \n",
        "    sentence = sentence.strip(' \\n,\\'`~\"[]{}\\\\-+=<>')\n",
        "    sentence = sentence.replace('\\n', '')\n",
        "    sentence_doc = NLP(sentence)\n",
        "    topic_score = EVAL.topic_score(sentence_doc, topic_doc)\n",
        "    related_score = EVAL.related_score(sentence_doc)\n",
        "    length_score = EVAL.word_length_score(sentence_doc)\n",
        "    total_score = np.mean([topic_score, related_score, length_score])\n",
        "\n",
        "    print('[{}]: {} - Topic: {}, Related: {}, Length: {}, Overall: {}'.format(i, sentence, topic_score, related_score, length_score, total_score))\n",
        "\n",
        "    if total_score > best_score:\n",
        "      best_score = total_score\n",
        "      best_sentence = sentence\n",
        "  \n",
        "  print('Best Sentence: ', best_sentence)\n",
        "  break"
      ],
      "execution_count": 598,
      "outputs": [
        {
          "output_type": "stream",
          "text": [
            "[0]: Basketball is in the same state as California. - Topic: 0.4143057421122422, Related: 0.30634772777557373, Length: 0.8, Overall: 0.5068844899626054\n",
            "[1]: Basketball is the game where we all go to see the greats and greats who made it through and through. - Topic: 0.4334134728380157, Related: 0.2613990485668182, Length: 0.6, Overall: 0.43160417380161126\n",
            "[2]: Basketball is a sports franchise. - Topic: 0.6511884795857104, Related: 0.4336770176887512, Length: 0.8, Overall: 0.6282884990914872\n",
            "[3]: Basketball is an open-source game in which players play and play basketball together. - Topic: 0.4816659760497012, Related: 0.4057697795331478, Length: 0.6, Overall: 0.49581191852761625\n",
            "[4]: Basketball is a popular and popular sport among many Americans, and it was established during the late 19th century by the U. - Topic: 0.39846518042453616, Related: 0.19606459140777588, Length: 0.6, Overall: 0.39817659061077065\n",
            "[5]: Basketball is a popular sport in South America, with many members of the United States and Canada. - Topic: 0.37107612918580973, Related: 0.32576531171798706, Length: 0.6, Overall: 0.4322804803012656\n",
            "[6]: Basketball is a game that has been played for over a decade. - Topic: 0.44158427491884594, Related: 0.30055001378059387, Length: 0.6, Overall: 0.44737809623314656\n",
            "[7]: Basketball is the game of the night. - Topic: 0.45209833151743856, Related: 0.37549546360969543, Length: 0.8, Overall: 0.542531265042378\n",
            "[8]: Basketball is a sports and entertainment franchise that celebrates a passion and commitment for excellence at the same time. - Topic: 0.4576245388721807, Related: 0.3470475971698761, Length: 0.6, Overall: 0.4682240453473523\n",
            "[9]: Basketball is a sport with a great atmosphere for the fans. - Topic: 0.5368745520564433, Related: 0.331901490688324, Length: 0.6, Overall: 0.48959201424825577\n",
            "[10]: Basketball is in the midst of the second half of a four-game road trip to the NBA Finals. - Topic: 0.34662387070286016, Related: 0.348585307598114, Length: 0.6, Overall: 0.43173639276699144\n",
            "[11]: Basketball is the most beautiful, and most beautiful thing we have ever seen. - Topic: 0.4886496714036621, Related: 0.28255292773246765, Length: 0.6, Overall: 0.4570675330453766\n",
            "[12]: Basketball is not the sport I want to be in, it’s what we love. - Topic: 0.7524993686562788, Related: 0.5176540613174438, Length: 0.6, Overall: 0.6233844766579075\n",
            "[13]: Basketball is a game of strategy, not a game of strategy. - Topic: 0.3972602713566429, Related: 0.33434636145830154, Length: 0.6, Overall: 0.44386887760498145\n",
            "[14]: Basketball is a game with a great atmosphere. - Topic: 0.43952077705452436, Related: 0.31687378883361816, Length: 0.8, Overall: 0.5187981886293809\n",
            "[15]: Basketball is a game of basketball. - Topic: 0.5791259167438594, Related: 0.2721324563026428, Length: 0.8, Overall: 0.5504194576821674\n",
            "[16]: Basketball is the most expensive sports league in the world and one of the biggest clubs in the world. - Topic: 0.5756347851218487, Related: 0.4193152815103531, Length: 0.6, Overall: 0.531650022210734\n",
            "[17]: Basketball is a very exciting, exciting sport that is a part of our sport and the world and a part of our sport. - Topic: 0.5839518468828742, Related: 0.20560462474823, Length: 0.6, Overall: 0.4631854905437014\n",
            "[18]: Basketball is a popular and exciting sport. - Topic: 0.7524993686562788, Related: 0.5176540613174438, Length: 0.8, Overall: 0.6900511433245743\n",
            "[19]: Basketball is the most popular sport in Japan. - Topic: 0.5870230694107951, Related: 0.2549501955509186, Length: 0.8, Overall: 0.5473244216539045\n",
            "[20]: Basketball is the most prestigious sport of the year, according to the U. - Topic: 0.4613262966781613, Related: 0.12103309482336044, Length: 0.6, Overall: 0.39411979716717394\n",
            "[21]: Basketball is a very simple, yet simple way to do things. - Topic: 0.42535441869464563, Related: 0.411776065826416, Length: 0.6, Overall: 0.4790434948403539\n",
            "[22]: Basketball is one of the few sports that can be played in this country. - Topic: 0.6705805090425611, Related: 0.5231822729110718, Length: 0.6, Overall: 0.5979209273178777\n",
            "[23]: Basketball is the best sport in the world. - Topic: 0.6340460736889927, Related: 0.42227524518966675, Length: 0.8, Overall: 0.6187737729595532\n",
            "[24]: Basketball is a sport which has grown into more than 30 sports, many of them sports such as baseball, and tennis. - Topic: 0.8005141373902394, Related: 0.6110007643699646, Length: 0.6, Overall: 0.6705049672534013\n"
          ],
          "name": "stdout"
        },
        {
          "output_type": "stream",
          "text": [
            "/usr/lib/python3.6/runpy.py:193: UserWarning: [W008] Evaluating Doc.similarity based on empty vectors.\n",
            "  \"__main__\", mod_spec)\n"
          ],
          "name": "stderr"
        },
        {
          "output_type": "stream",
          "text": [
            "[25]: Basketball is the sport of college basketball, so it‼“s an incredible opportunity and it’s a great honor to share the experience with a fan!”. - Topic: 0.43205866943860644, Related: 0.16821194738149642, Length: 0.6, Overall: 0.4000902056067009\n",
            "[26]: Basketball is a game that involves a group of players, teams, or teams. - Topic: 0.4461427623276292, Related: 0.3830389067530632, Length: 0.6, Overall: 0.47639388969356417\n",
            "[27]: Basketball is a very interesting game and I think I should go on with that because it's a really fun, fun experience. - Topic: 0.47538463062556585, Related: 0.3798064589500427, Length: 0.6, Overall: 0.4850636965252028\n",
            "[28]: Basketball is a team that's always looking for ways to win. - Topic: 0.4623795300501379, Related: 0.28181037306785583, Length: 0.6, Overall: 0.4480633010393313\n",
            "[29]: Basketball is not a sport that requires players to be in a certain position in the same position, and it is the same situation where the player is not allowed to play in any position. - Topic: 0.3942315460049308, Related: 0.2504615217447281, Length: 0.6, Overall: 0.41489768924988635\n"
          ],
          "name": "stdout"
        },
        {
          "output_type": "stream",
          "text": [
            "/usr/lib/python3.6/runpy.py:193: UserWarning: [W008] Evaluating Doc.similarity based on empty vectors.\n",
            "  \"__main__\", mod_spec)\n"
          ],
          "name": "stderr"
        },
        {
          "output_type": "stream",
          "text": [
            "[30]: Basketball is about to become the best basketball league in America, and we‪‪ll be looking forward to seeing how it plays out. - Topic: 0.4213743775025291, Related: 0.11962275505065918, Length: 0.6, Overall: 0.3803323775177294\n",
            "[31]: Basketball is a game that requires a certain amount of patience. - Topic: 0.3622706676298717, Related: 0.24167081713676453, Length: 0.6, Overall: 0.40131382825554535\n",
            "[32]: Basketball is a popular sport in Australia. - Topic: 0.5952596972257597, Related: 0.3031682074069977, Length: 0.8, Overall: 0.5661426348775858\n",
            "[33]: Basketball is not for the faint of heart. - Topic: 0.31505131383590584, Related: 0.1997738629579544, Length: 0.8, Overall: 0.43827505893128677\n",
            "[34]: Basketball is a sport in which the player moves from his team to his teammates. - Topic: 0.528976653567192, Related: 0.48823776841163635, Length: 0.6, Overall: 0.5390714739929429\n",
            "[35]: Basketball is the most important sport in football for every American. - Topic: 0.6378276266213732, Related: 0.449351966381073, Length: 0.6, Overall: 0.5623931976674821\n",
            "[36]: Basketball is one of those rare sports, which was a big part of my childhood. - Topic: 0.5464739510614384, Related: 0.342795729637146, Length: 0.6, Overall: 0.4964232268995281\n",
            "[37]: Basketball is a game where you have to fight for points or rebounds. - Topic: 0.33277346287631965, Related: 0.48167744278907776, Length: 0.6, Overall: 0.4714836352217991\n",
            "[38]: Basketball is not for sale and is for sale and is for sale and is for sale and is for sale and is for sale and is for sale and is for sale and is for sale. - Topic: 0.2800101738049935, Related: 0.0, Length: 0.6, Overall: 0.2933367246016645\n",
            "[39]: Basketball is not a professional sport. - Topic: 0.7524993686562788, Related: 0.5176540613174438, Length: 0.8, Overall: 0.6900511433245743\n",
            "[40]: Basketball is a great game of basketball. - Topic: 0.5791259167438594, Related: 0.3265589475631714, Length: 0.8, Overall: 0.5685616214356769\n",
            "[41]: Basketball is a team of sports. - Topic: 0.6958151581636397, Related: 0.531047523021698, Length: 0.8, Overall: 0.6756208937284459\n",
            "[42]: Basketball is now available on iTunes and Google Play, and you can also download the app at the top of your browser. - Topic: 0.2727009227333148, Related: 0.18915174901485443, Length: 0.6, Overall: 0.35395089058272305\n",
            "[43]: Basketball is not about basketball and it is about the sport. - Topic: 0.7205065294063612, Related: 0.4141232490539551, Length: 0.6, Overall: 0.5782099261534387\n",
            "[44]: Basketball is an international sport in the United States. - Topic: 0.4997081600753408, Related: 0.3586849570274353, Length: 0.8, Overall: 0.5527977057009253\n",
            "[45]: Basketball is a team of four players. - Topic: 0.5134965427920314, Related: 0.5423935651779175, Length: 0.8, Overall: 0.6186300359899829\n",
            "[46]: Basketball is a game of football and basketball for kids. - Topic: 0.5697441940998552, Related: 0.40122509002685547, Length: 0.6, Overall: 0.5236564280422369\n",
            "[47]: Basketball is one of the most fun games of all time and one that is never forgotten. - Topic: 0.4398108605885303, Related: 0.4437660276889801, Length: 0.6, Overall: 0.49452562942583683\n",
            "[48]: Basketball is the best game of all time. - Topic: 0.45520350348634864, Related: 0.4259018003940582, Length: 0.8, Overall: 0.5603684346268023\n",
            "[49]: Basketball is still in the works. - Topic: 0.4424716436054585, Related: 0.09798197448253632, Length: 0.8, Overall: 0.4468178726959983\n",
            "Best Sentence:  Basketball is a popular and exciting sport.\n"
          ],
          "name": "stdout"
        }
      ]
    },
    {
      "cell_type": "code",
      "metadata": {
        "id": "dCVcOcJnn-pc",
        "colab_type": "code",
        "colab": {}
      },
      "source": [
        "LM = LanguageModel(k=25)"
      ],
      "execution_count": 0,
      "outputs": []
    },
    {
      "cell_type": "code",
      "metadata": {
        "id": "SMsr474SoE-0",
        "colab_type": "code",
        "colab": {
          "base_uri": "https://localhost:8080/",
          "height": 34
        },
        "outputId": "837392ae-8ab9-43b9-b5d5-b3957adf9f50"
      },
      "source": [
        "LM.get_sentence('', 30)"
      ],
      "execution_count": 339,
      "outputs": [
        {
          "output_type": "execute_result",
          "data": {
            "text/plain": [
              "'The best of all things for us to do for the world!\\n\\nThis post comes at no cost to us, but if you are a subscriber or a.'"
            ]
          },
          "metadata": {
            "tags": []
          },
          "execution_count": 339
        }
      ]
    },
    {
      "cell_type": "code",
      "metadata": {
        "id": "QsS-ECRsW6JJ",
        "colab_type": "code",
        "colab": {}
      },
      "source": [
        "nlp = spacy.load('en_core_web_md')"
      ],
      "execution_count": 0,
      "outputs": []
    },
    {
      "cell_type": "code",
      "metadata": {
        "id": "zHKHlICVLqLU",
        "colab_type": "code",
        "colab": {
          "base_uri": "https://localhost:8080/",
          "height": 51
        },
        "outputId": "bf377544-ff3c-4a22-a7e8-f556225b507b"
      },
      "source": [
        "evaluator = Evaluator()\n",
        "topic = nlp('Sports')[0]\n",
        "doc = nlp('Baseball is America\\'s pastime')\n",
        "\n",
        "topic_score = evaluator.related_topic_score(doc, topic)\n",
        "related_score = evaluator.related_score(doc)\n",
        "\n",
        "print('Topic Score: ', topic_score)\n",
        "print('Sentence Relatedness Score: ', related_score)"
      ],
      "execution_count": 465,
      "outputs": [
        {
          "output_type": "stream",
          "text": [
            "Topic Score:  0.4435064\n",
            "Sentence Relatedness Score:  0.28847122\n"
          ],
          "name": "stdout"
        }
      ]
    },
    {
      "cell_type": "code",
      "metadata": {
        "id": "Y701hhVNLytn",
        "colab_type": "code",
        "colab": {
          "base_uri": "https://localhost:8080/",
          "height": 34
        },
        "outputId": "69dd8faf-e1f1-4aeb-bafa-d48f1948aff7"
      },
      "source": [
        "topic.similarity(doc[5])"
      ],
      "execution_count": 344,
      "outputs": [
        {
          "output_type": "execute_result",
          "data": {
            "text/plain": [
              "0.38921082"
            ]
          },
          "metadata": {
            "tags": []
          },
          "execution_count": 344
        }
      ]
    },
    {
      "cell_type": "code",
      "metadata": {
        "id": "_rYVDtdJYBWw",
        "colab_type": "code",
        "colab": {}
      },
      "source": [
        "doc = nlp(\"Basketball is a game of movement, shooting, and defending.\")\n",
        "# print('{}, {} - Score: {:.4f}'.format(doc[1], doc[3], doc[1].similarity(doc[3])))\n",
        "# print('{}, {} - Score: {:.4f}'.format(doc[1], doc[11], doc[1].similarity(doc[11])))\n",
        "# print('{}, {} - Score: {:.4f}'.format(doc[9], doc[11], doc[9].similarity(doc[11])))\n",
        "# print('{}, {} - Score: {:.4f}'.format(doc[0], doc[6], doc[0].similarity(doc[6])))\n",
        "# print('{}, {} - Score: {:.4f}'.format(doc[0], doc[9], doc[0].similarity(doc[9])))"
      ],
      "execution_count": 0,
      "outputs": []
    },
    {
      "cell_type": "code",
      "metadata": {
        "id": "aguglfiqxrXR",
        "colab_type": "code",
        "outputId": "478f38fa-e4d5-433d-da7a-22548f120c6b",
        "colab": {
          "base_uri": "https://localhost:8080/",
          "height": 34
        }
      },
      "source": [
        "evaluator = Evaluator()\n",
        "evaluator.related_topic_score(doc)"
      ],
      "execution_count": 61,
      "outputs": [
        {
          "output_type": "execute_result",
          "data": {
            "text/plain": [
              "0.3780083"
            ]
          },
          "metadata": {
            "tags": []
          },
          "execution_count": 61
        }
      ]
    },
    {
      "cell_type": "code",
      "metadata": {
        "id": "xh04ERF5aCVU",
        "colab_type": "code",
        "outputId": "bcb4b666-7fc1-4a95-8189-5a00b20a8dce",
        "colab": {
          "base_uri": "https://localhost:8080/",
          "height": 34
        }
      },
      "source": [
        "doc[3].vector_norm"
      ],
      "execution_count": 577,
      "outputs": [
        {
          "output_type": "execute_result",
          "data": {
            "text/plain": [
              "5.1889863"
            ]
          },
          "metadata": {
            "tags": []
          },
          "execution_count": 577
        }
      ]
    },
    {
      "cell_type": "markdown",
      "metadata": {
        "id": "sn_JZMaHVEOg",
        "colab_type": "text"
      },
      "source": [
        "## Word Distribution"
      ]
    },
    {
      "cell_type": "code",
      "metadata": {
        "id": "cx7LXT0sVLjI",
        "colab_type": "code",
        "outputId": "a3cc4ce2-d573-429d-f9f8-2c50b701e86e",
        "colab": {
          "base_uri": "https://localhost:8080/",
          "height": 211
        }
      },
      "source": [
        "# Download the simple word distribution from GitHub\n",
        "!wget -O word_dist_full.csv https://raw.githubusercontent.com/ericburdett/cs673-personal-tutor/master/data/word_dist_full.csv"
      ],
      "execution_count": 0,
      "outputs": [
        {
          "output_type": "stream",
          "text": [
            "--2020-02-20 18:26:39--  https://raw.githubusercontent.com/ericburdett/cs673-personal-tutor/master/data/word_dist_full.csv\n",
            "Resolving raw.githubusercontent.com (raw.githubusercontent.com)... 151.101.0.133, 151.101.64.133, 151.101.128.133, ...\n",
            "Connecting to raw.githubusercontent.com (raw.githubusercontent.com)|151.101.0.133|:443... connected.\n",
            "HTTP request sent, awaiting response... 200 OK\n",
            "Length: 163042 (159K) [text/plain]\n",
            "Saving to: ‘word_dist_full.csv’\n",
            "\n",
            "\rword_dist_full.csv    0%[                    ]       0  --.-KB/s               \rword_dist_full.csv  100%[===================>] 159.22K  --.-KB/s    in 0.03s   \n",
            "\n",
            "2020-02-20 18:26:39 (5.17 MB/s) - ‘word_dist_full.csv’ saved [163042/163042]\n",
            "\n"
          ],
          "name": "stdout"
        }
      ]
    },
    {
      "cell_type": "code",
      "metadata": {
        "id": "RWVYaEVrV065",
        "colab_type": "code",
        "colab": {}
      },
      "source": [
        "class WordDist(Dataset):\n",
        "  def __init__(self):\n",
        "    self.df = pd.read_csv('word_dist_full.csv', header=None, names=['word', 'freq'])\n",
        "  \n",
        "  def getdf(self):\n",
        "    return self.df\n",
        "\n",
        "  def dict_normalized(self): \n",
        "    copy = self.df.copy()\n",
        "    copy['freq'] = copy['freq'] / copy['freq'].max()\n",
        "\n",
        "    return copy.set_index('word').to_dict()['freq']\n",
        "\n",
        "  def __getitem__(self, index):\n",
        "    return self.df['word'][index], self.df['freq'][index]\n",
        "\n",
        "  def __len__(self):\n",
        "    return len(self.df)"
      ],
      "execution_count": 0,
      "outputs": []
    },
    {
      "cell_type": "markdown",
      "metadata": {
        "id": "Qs19o8d-OOZW",
        "colab_type": "text"
      },
      "source": [
        "# Old Code"
      ]
    },
    {
      "cell_type": "markdown",
      "metadata": {
        "id": "kzpCKzikWxA3",
        "colab_type": "text"
      },
      "source": [
        "## Imports"
      ]
    },
    {
      "cell_type": "code",
      "metadata": {
        "id": "Xn2-Iv5RGY_9",
        "colab_type": "code",
        "colab": {}
      },
      "source": [
        "!pip install gpt-2-simple\n",
        "!pip install gtts"
      ],
      "execution_count": 0,
      "outputs": []
    },
    {
      "cell_type": "code",
      "metadata": {
        "id": "kUN5YCJsWzAs",
        "colab_type": "code",
        "outputId": "99396b8d-283e-4794-f381-8364992aa60d",
        "colab": {
          "base_uri": "https://localhost:8080/",
          "height": 205
        }
      },
      "source": [
        "import torch\n",
        "import torch.nn as nn\n",
        "import torch.nn.functional as F\n",
        "import torch.optim as optim\n",
        "from torch.utils.data import Dataset, DataLoader\n",
        "import numpy as np\n",
        "import matplotlib.pyplot as plt\n",
        "from torchvision import transforms, utils, datasets\n",
        "from tqdm import tqdm\n",
        "from torch.nn.parameter import Parameter\n",
        "import pdb\n",
        "import torchvision\n",
        "import os\n",
        "import string\n",
        "import gzip\n",
        "import tarfile\n",
        "from PIL import Image, ImageOps\n",
        "import gc\n",
        "import pdb\n",
        "import pandas as pd\n",
        "import gpt_2_simple as gpt2\n",
        "import requests\n",
        "import tensorflow as tf\n",
        "import os\n",
        "from gtts import gTTS \n",
        "from IPython.core.ultratb import AutoFormattedTB\n",
        "from IPython.display import Audio, HTML\n",
        "__ITB__ = AutoFormattedTB(mode = 'Verbose',color_scheme='LightBg', tb_offset = 1)\n",
        "\n",
        "assert torch.cuda.is_available(), \"Request a GPU from Runtime > Change Runtime\""
      ],
      "execution_count": 0,
      "outputs": [
        {
          "output_type": "display_data",
          "data": {
            "text/html": [
              "<p style=\"color: red;\">\n",
              "The default version of TensorFlow in Colab will soon switch to TensorFlow 2.x.<br>\n",
              "We recommend you <a href=\"https://www.tensorflow.org/guide/migrate\" target=\"_blank\">upgrade</a> now \n",
              "or ensure your notebook will continue to use TensorFlow 1.x via the <code>%tensorflow_version 1.x</code> magic:\n",
              "<a href=\"https://colab.research.google.com/notebooks/tensorflow_version.ipynb\" target=\"_blank\">more info</a>.</p>\n"
            ],
            "text/plain": [
              "<IPython.core.display.HTML object>"
            ]
          },
          "metadata": {
            "tags": []
          }
        },
        {
          "output_type": "stream",
          "text": [
            "WARNING:tensorflow:\n",
            "The TensorFlow contrib module will not be included in TensorFlow 2.0.\n",
            "For more information, please see:\n",
            "  * https://github.com/tensorflow/community/blob/master/rfcs/20180907-contrib-sunset.md\n",
            "  * https://github.com/tensorflow/addons\n",
            "  * https://github.com/tensorflow/io (for I/O related ops)\n",
            "If you depend on functionality not listed there, please file an issue.\n",
            "\n"
          ],
          "name": "stdout"
        }
      ]
    },
    {
      "cell_type": "code",
      "metadata": {
        "id": "Tg7SoAGkGh3Z",
        "colab_type": "code",
        "outputId": "3d69a046-0b9e-4c70-b62c-63b01ab86661",
        "colab": {
          "base_uri": "https://localhost:8080/",
          "height": 211
        }
      },
      "source": [
        "# Download the children's book corpus from GitHub\n",
        "!wget -O wiki_simple.txt https://raw.githubusercontent.com/ericburdett/cs673-personal-tutor/master/data/wiki_simple.txt"
      ],
      "execution_count": 0,
      "outputs": [
        {
          "output_type": "stream",
          "text": [
            "--2020-02-20 18:26:35--  https://raw.githubusercontent.com/ericburdett/cs673-personal-tutor/master/data/wiki_simple.txt\n",
            "Resolving raw.githubusercontent.com (raw.githubusercontent.com)... 151.101.0.133, 151.101.64.133, 151.101.128.133, ...\n",
            "Connecting to raw.githubusercontent.com (raw.githubusercontent.com)|151.101.0.133|:443... connected.\n",
            "HTTP request sent, awaiting response... 200 OK\n",
            "Length: 47667422 (45M) [text/plain]\n",
            "Saving to: ‘wiki_simple.txt’\n",
            "\n",
            "wiki_simple.txt     100%[===================>]  45.46M   199MB/s    in 0.2s    \n",
            "\n",
            "2020-02-20 18:26:36 (199 MB/s) - ‘wiki_simple.txt’ saved [47667422/47667422]\n",
            "\n"
          ],
          "name": "stdout"
        }
      ]
    },
    {
      "cell_type": "markdown",
      "metadata": {
        "id": "S9LYBu6EVIkA",
        "colab_type": "text"
      },
      "source": [
        "## Classes"
      ]
    },
    {
      "cell_type": "code",
      "metadata": {
        "id": "vuQNroOuIg1l",
        "colab_type": "code",
        "colab": {}
      },
      "source": [
        "# Class that deals with training and generating text from GPT2\n",
        "class LanguageModel():\n",
        "  def __init__(self, model='124M', genre='children', train_steps=200, max_length=150):\n",
        "    self.download_model(model)\n",
        "    self.genre = genre\n",
        "    self.max_length = max_length\n",
        "\n",
        "    tf.reset_default_graph()\n",
        "    self.sess = gpt2.start_tf_sess()\n",
        "\n",
        "    if genre == 'children':\n",
        "      gpt2.finetune(self.sess, 'wiki_simple.txt', model_name=model, steps=train_steps)\n",
        "    else:\n",
        "      raise('The specified genre does not exist')\n",
        "\n",
        "  # Returns a list of sample texts with a given prefix and suffix\n",
        "  def generate_text(self, prefix='<|startoftext|>', suffix='.', include_prefix=False, nsamples=5):\n",
        "    if nsamples < 1 or nsamples > 20:\n",
        "      raise('Error: nsamples must be within the range 1 <= x <= 20')\n",
        "\n",
        "    return gpt2.generate(self.sess, prefix=prefix, truncate=suffix, include_prefix=include_prefix, batch_size=nsamples, nsamples=nsamples, return_as_list=True, length=self.max_length)\n",
        "  \n",
        "  def download_model(self, model_name):\n",
        "    if not os.path.isdir(os.path.join(\"models\", model_name)):\n",
        "      print(f\"Downloading {model_name} model...\")\n",
        "      gpt2.download_gpt2(model_name=model_name)\n",
        "    else:\n",
        "      print(f\"{model_name} model is already downloaded\")"
      ],
      "execution_count": 0,
      "outputs": []
    },
    {
      "cell_type": "code",
      "metadata": {
        "id": "HQxMeo2JNzSk",
        "colab_type": "code",
        "colab": {}
      },
      "source": [
        "# A class that contains some knowledge that the user has acquired over time.\n",
        "# For example, it may hold the words that the user knows (and how well the user knows them)\n",
        "class UserKnowledge():\n",
        "  def __init__(self):\n",
        "    pass\n",
        "\n",
        "  # We will likely need some place to store the knowledge we acquire about the user\n",
        "  # so that we can access it from session to session\n",
        "  def save_knowledge(self, path):\n",
        "    pass"
      ],
      "execution_count": 0,
      "outputs": []
    },
    {
      "cell_type": "code",
      "metadata": {
        "id": "zK1wDhdgJajQ",
        "colab_type": "code",
        "colab": {}
      },
      "source": [
        "# Class that evaluates sentences based on what the system knows about the user\n",
        "class SentenceEvaluator():\n",
        "  def __init__(self, level='beginner', user_knowledge=None):\n",
        "    self.level = 'beginner'\n",
        "    self.word_dist = WordDist().dict_normalized()\n",
        "    self.word_dist_threshold = 0.033\n",
        "    self.word_dist_threshold_step = 0.005\n",
        "    self.word_dist_difficulty_threshold = 7\n",
        "\n",
        "    if user_knowledge == None:\n",
        "      self.user_knowledge = UserKnowledge()\n",
        "    else:\n",
        "      self.user_knowledge = user_knowledge\n",
        "\n",
        "  # We will likely want some method to update the user_knowledge in the evaluator\n",
        "  # Maybe, we will only pass user_knowledge into the evaluate function?...\n",
        "  def update_user_knowledge(user_knowledge):\n",
        "    pass\n",
        "\n",
        "  # Score the sentences and return the sentence with the highest score\n",
        "  def evaluate(self, sentences):\n",
        "    scores = self.score(sentences)\n",
        "    high_score_index = np.argmax(scores)\n",
        "\n",
        "    return sentences[high_score_index]\n",
        "\n",
        "  # Score each sentence based on some criteria\n",
        "  def score(self, sentences):\n",
        "    scores = []\n",
        "    for sentence in sentences:\n",
        "      score = 0\n",
        "      score += self.length_score(sentence)\n",
        "      score += self.word_difficulty(sentence)\n",
        "\n",
        "      # add other criteria for scoring\n",
        "      # ...\n",
        "      # ...\n",
        "      scores.append(score)\n",
        "    \n",
        "    return scores\n",
        "\n",
        "  # For beginners, we want to favor shorter sentences\n",
        "  # This method should change as we increase difficulty level\n",
        "  def length_score(self, sentence):\n",
        "    length = len(sentence)\n",
        "\n",
        "    if self.level == 'beginner':\n",
        "      if length > 0 and length <= 15:\n",
        "        return 6\n",
        "      elif length > 15 and length <= 25:\n",
        "        return 10\n",
        "      elif length > 25 and length <= 35:\n",
        "        return 7\n",
        "      elif length > 35 and length <= 45:\n",
        "        return 3\n",
        "      elif length > 45 and length <= 55:\n",
        "        return 1\n",
        "      else:\n",
        "        return 0\n",
        "    else:\n",
        "      raise('support for non-beginners is not supported')\n",
        "\n",
        "  # For beginners, easier the better!\n",
        "  # This method should change as we increase difficulty level\n",
        "  def word_difficulty(self, sentence):\n",
        "    word_scores = []\n",
        "\n",
        "    for word in sentence.split(' '):\n",
        "      word = word.lower()\n",
        "      word_score = self.word_dist.get(word, 0) # Return the word or 0 if it doesn't exist\n",
        "\n",
        "      if word_score >= self.word_dist_threshold:\n",
        "        word_scores.append(10)\n",
        "      elif word_score >= self.word_dist_threshold - self.word_dist_threshold_step:\n",
        "        word_scores.append(8)\n",
        "      elif word_score >= self.word_dist_threshold - (2 * self.word_dist_threshold_step):\n",
        "        word_scores.append(6)\n",
        "      elif word_score >= self.word_dist_threshold - (3 * self.word_dist_threshold_step):\n",
        "        word_scores.append(4)\n",
        "      elif word_score >= self.word_dist_threshold - (4 * self.word_dist_threshold_step):\n",
        "        word_scores.append(2)\n",
        "      else:\n",
        "        word_scores.append(0)\n",
        "\n",
        "    score_med = np.median(word_scores)\n",
        "\n",
        "    if score_med >= self.word_dist_difficulty_threshold:\n",
        "      return 10\n",
        "    elif score_med >= self.word_dist_difficulty_threshold - 1:\n",
        "      return 8\n",
        "    elif score_med >= self.word_dist_difficulty_threshold - 2:\n",
        "      return 6\n",
        "    elif score_med >= self.word_dist_difficulty_threshold - 3:\n",
        "      return 4\n",
        "    elif score_med >= self.word_dist_difficulty_threshold - 4:\n",
        "      return 2\n",
        "    else:\n",
        "      return 0"
      ],
      "execution_count": 0,
      "outputs": []
    },
    {
      "cell_type": "code",
      "metadata": {
        "id": "uVxCTzArHKdi",
        "colab_type": "code",
        "colab": {}
      },
      "source": [
        "class SentenceGenerator():\n",
        "  def __init__(self, language_model=None, evaluator=None):\n",
        "    if language_model == None:\n",
        "      self.language_model = LanguageModel()\n",
        "    else:\n",
        "      self.language_model = language_model\n",
        "    if evaluator == None:\n",
        "      self.evaluator = SentenceEvaluator()\n",
        "    else:\n",
        "      self.evaluator = evaluator\n",
        "\n",
        "  # Generate a sentence, pick the best one based on evaluation, return the sentence\n",
        "  def generate(self, print_all_sentences=False):\n",
        "    # Determine the prefix/suffix based on some kind of criteria that is learned over time\n",
        "    prefix = self.determine_prefix()\n",
        "    if prefix == '<|startoftext|>':\n",
        "      include_prefix = False\n",
        "    else:\n",
        "      include_prefix = True\n",
        "    suffix = self.determine_suffix()\n",
        "\n",
        "    sentences = self.language_model.generate_text(prefix=prefix, suffix=suffix, include_prefix=include_prefix, nsamples=15)\n",
        "    sentences = self.filter_punctuation(sentences)\n",
        "    best_sentence = self.evaluator.evaluate(sentences)\n",
        "\n",
        "    if print_all_sentences:\n",
        "      for sentence in sentences:\n",
        "        print(sentence)\n",
        "\n",
        "    return best_sentence\n",
        "  \n",
        "  # Used to filter unwanted punctuation GPT2 might produce, like newlines\n",
        "  def filter_punctuation(self, sentences):\n",
        "    filtered_sentences = []\n",
        "\n",
        "    for sentence in sentences:\n",
        "      new_sentence = sentence.replace('\\n', ' ')\n",
        "      new_sentence = new_sentence.translate(str.maketrans('', '', string.punctuation))\n",
        "      filtered_sentences.append(new_sentence)\n",
        "\n",
        "    return filtered_sentences\n",
        "\n",
        "  def determine_prefix(self):\n",
        "    # Good simple sentence starters...\n",
        "    # starters = ['<|startoftext|>']\n",
        "    starters = ['I', 'You', 'The', 'They', 'It', '<|startoftext|>', 'He', 'She', 'My']\n",
        "    random_index = np.random.randint(0, len(starters)) \n",
        "\n",
        "    return starters[random_index]\n",
        "\n",
        "  def determine_suffix(self):\n",
        "    return '.'"
      ],
      "execution_count": 0,
      "outputs": []
    },
    {
      "cell_type": "markdown",
      "metadata": {
        "id": "IpZvu9GMVu-O",
        "colab_type": "text"
      },
      "source": [
        "## Tutoring System"
      ]
    },
    {
      "cell_type": "code",
      "metadata": {
        "id": "jJB-19P2Rlh3",
        "colab_type": "code",
        "colab": {}
      },
      "source": [
        "model = LanguageModel('117M', train_steps=200) # Will fine-tune model everytime this is called! -- Will need to be fixed at some point"
      ],
      "execution_count": 0,
      "outputs": []
    },
    {
      "cell_type": "code",
      "metadata": {
        "id": "lIEVzlnWc9EF",
        "colab_type": "code",
        "outputId": "1baf679a-474a-4a27-9b88-f6119beaa1b4",
        "colab": {
          "base_uri": "https://localhost:8080/",
          "height": 299
        }
      },
      "source": [
        "generator = SentenceGenerator(language_model=model)\n",
        "best_sentence = generator.generate(print_all_sentences=True)\n",
        "print(\"Best Sentence: \", best_sentence)"
      ],
      "execution_count": 0,
      "outputs": [
        {
          "output_type": "stream",
          "text": [
            "My own experience with it was that it was a very funny and funny movie \n",
            "My game is an open world game \n",
            "My second favorite place to eat is at a nearby lake \n",
            "My name is Washington SmootHart  and I am an agent of the United Nations \n",
            "Myrious s talk with the King of France was not well received and the book was banned \n",
            "My wife and her brother were at home when a sudden  thunderbolt  struck the house \n",
            "My money was full of things that are not in the movie and were not intended for audience or to be seen by children \n",
            "My favorite game is High Roller Ballet \n",
            "My own life was spent in the city and in the West Bank  and belonged to the family of the people who lived there \n",
            "My hair is round and it looks like the shaft of a gun \n",
            "My way was to go to a village called Namur in Afghanistan in 1959 \n",
            "My students were supposed to be students at the University of East Anglia  but they were supposed to be studying in the department of English \n",
            "My statutes were changed to go with the Dukes of France  and the Duke of Normandy  who was Grand Duke of Austria \n",
            "My precious mama and I were taken to a hospital in India \n",
            "My clan was part of the Second Temple of Jerusalem \n",
            "Best Sentence:  My hair is round and it looks like the shaft of a gun \n"
          ],
          "name": "stdout"
        }
      ]
    },
    {
      "cell_type": "code",
      "metadata": {
        "id": "i5PrmYHIZL0e",
        "colab_type": "code",
        "colab": {}
      },
      "source": [
        "def print_options():\n",
        "  print('0: I don\\'t know what this means.')\n",
        "  print('1: Choose words I don\\'t know.')\n",
        "  print('2: Generate a better sentence.')\n",
        "  print('3: I need definitions.')\n",
        "  print('4: I understand! Give me another!')\n",
        "  print('5: Exit: I\\'ve learned enough for today.')"
      ],
      "execution_count": 0,
      "outputs": []
    },
    {
      "cell_type": "markdown",
      "metadata": {
        "id": "Oh3HWeS6hLG8",
        "colab_type": "text"
      },
      "source": [
        "## Text-to-Speech"
      ]
    },
    {
      "cell_type": "code",
      "metadata": {
        "id": "_uN47D4-hPTc",
        "colab_type": "code",
        "outputId": "9ee909db-08e4-46d4-a4d3-188ff06f33cc",
        "colab": {
          "base_uri": "https://localhost:8080/",
          "height": 75
        }
      },
      "source": [
        "speech = gTTS(text = best_sentence, lang = 'en', slow = False)\n",
        "speech.save('speech.mp3')\n",
        "Audio(filename='speech.mp3', autoplay=True)"
      ],
      "execution_count": 0,
      "outputs": [
        {
          "output_type": "execute_result",
          "data": {
            "text/html": [
              "\n",
              "                <audio controls=\"controls\" autoplay=\"autoplay\">\n",
              "                    <source src=\"data:audio/mpeg;base64,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\" type=\"audio/mpeg\" />\n",
              "                    Your browser does not support the audio element.\n",
              "                </audio>\n",
              "              "
            ],
            "text/plain": [
              "<IPython.lib.display.Audio object>"
            ]
          },
          "metadata": {
            "tags": []
          },
          "execution_count": 43
        }
      ]
    },
    {
      "cell_type": "code",
      "metadata": {
        "id": "ht56XkiOmoEu",
        "colab_type": "code",
        "outputId": "e57854da-f25a-44ff-e45d-e080e1d1f5b9",
        "colab": {
          "base_uri": "https://localhost:8080/",
          "height": 35
        }
      },
      "source": [
        "Audio('Hedidnotlikethesoundofit.mp3', autoplay=True)"
      ],
      "execution_count": 0,
      "outputs": [
        {
          "output_type": "stream",
          "text": [
            "something\n"
          ],
          "name": "stdout"
        }
      ]
    },
    {
      "cell_type": "markdown",
      "metadata": {
        "id": "Psl0v8GaeRBq",
        "colab_type": "text"
      },
      "source": [
        "## Learn-A-Language Loop\n",
        "* Terrible Name...\n",
        "* We need to come up with something!"
      ]
    },
    {
      "cell_type": "code",
      "metadata": {
        "colab_type": "code",
        "outputId": "fe02ce7f-500c-46a5-9829-94b0a5a12cb2",
        "id": "PxyjwQtX3Het",
        "colab": {
          "base_uri": "https://localhost:8080/",
          "height": 772
        }
      },
      "source": [
        "print(\"Learn-A-Language - English\")\n",
        "\n",
        "while True:\n",
        "  print('\\nGenerating personalized sentence... Please Wait.')\n",
        "  sentence = generator.generate()\n",
        "  print(\"\\nTry this sentence:\")\n",
        "  print(sentence, '\\n')\n",
        "  speech = gTTS(text=sentence, lang='en', slow=False)\n",
        "  filename = sentence.replace(' ', '') + '.mp3'\n",
        "  speech.save(filename)\n",
        "  \n",
        "\n",
        "  while True:\n",
        "    print_options()\n",
        "    Audio(filename=filename, autoplay=False)\n",
        "    code = input('Enter a code from above:')\n",
        "    if code in ['0','1','2','3','4','5']:\n",
        "      code = int(code)\n",
        "      break\n",
        "    print('')\n",
        "  \n",
        "  if code == 0:\n",
        "    print('\\nI\\'m Sorry! This is as get as it gets...')\n",
        "  elif code == 1:\n",
        "    print('\\nI\\'m Sorry! This functionality isn\\'t currently available.')\n",
        "  elif code == 2:\n",
        "    print('\\nNew sentence coming right up!')\n",
        "  elif code == 3:\n",
        "    print('\\nI\\'m Sorry! This functionality isn\\'t currently available.')\n",
        "  elif code == 4:\n",
        "    print('\\nGreat Job! Here\\'s another.')\n",
        "  else:\n",
        "    print('\\nThanks for using Learn-A-Language! Play again soon!')\n",
        "    break"
      ],
      "execution_count": 0,
      "outputs": [
        {
          "output_type": "stream",
          "text": [
            "Learn-A-Language - English\n",
            "\n",
            "Generating personalized sentence... Please Wait.\n",
            "\n",
            "Try this sentence:\n",
            "He did not like the sound of it  \n",
            "\n",
            "0: I don't know what this means.\n",
            "1: Choose words I don't know.\n",
            "2: Generate a better sentence.\n",
            "3: I need definitions.\n",
            "4: I understand! Give me another!\n",
            "5: Exit: I've learned enough for today.\n"
          ],
          "name": "stdout"
        },
        {
          "output_type": "error",
          "ename": "KeyboardInterrupt",
          "evalue": "ignored",
          "traceback": [
            "\u001b[0;31m---------------------------------------------------------------------------\u001b[0m",
            "\u001b[0;31mKeyboardInterrupt\u001b[0m                         Traceback (most recent call last)",
            "\u001b[0;32m/usr/local/lib/python3.6/dist-packages/ipykernel/kernelbase.py\u001b[0m in \u001b[0;36m_input_request\u001b[0;34m(self, prompt, ident, parent, password)\u001b[0m\n\u001b[1;32m    729\u001b[0m             \u001b[0;32mtry\u001b[0m\u001b[0;34m:\u001b[0m\u001b[0;34m\u001b[0m\u001b[0;34m\u001b[0m\u001b[0m\n\u001b[0;32m--> 730\u001b[0;31m                 \u001b[0mident\u001b[0m\u001b[0;34m,\u001b[0m \u001b[0mreply\u001b[0m \u001b[0;34m=\u001b[0m \u001b[0mself\u001b[0m\u001b[0;34m.\u001b[0m\u001b[0msession\u001b[0m\u001b[0;34m.\u001b[0m\u001b[0mrecv\u001b[0m\u001b[0;34m(\u001b[0m\u001b[0mself\u001b[0m\u001b[0;34m.\u001b[0m\u001b[0mstdin_socket\u001b[0m\u001b[0;34m,\u001b[0m \u001b[0;36m0\u001b[0m\u001b[0;34m)\u001b[0m\u001b[0;34m\u001b[0m\u001b[0;34m\u001b[0m\u001b[0m\n\u001b[0m\u001b[1;32m    731\u001b[0m             \u001b[0;32mexcept\u001b[0m \u001b[0mException\u001b[0m\u001b[0;34m:\u001b[0m\u001b[0;34m\u001b[0m\u001b[0;34m\u001b[0m\u001b[0m\n",
            "\u001b[0;32m/usr/local/lib/python3.6/dist-packages/jupyter_client/session.py\u001b[0m in \u001b[0;36mrecv\u001b[0;34m(self, socket, mode, content, copy)\u001b[0m\n\u001b[1;32m    802\u001b[0m         \u001b[0;32mtry\u001b[0m\u001b[0;34m:\u001b[0m\u001b[0;34m\u001b[0m\u001b[0;34m\u001b[0m\u001b[0m\n\u001b[0;32m--> 803\u001b[0;31m             \u001b[0mmsg_list\u001b[0m \u001b[0;34m=\u001b[0m \u001b[0msocket\u001b[0m\u001b[0;34m.\u001b[0m\u001b[0mrecv_multipart\u001b[0m\u001b[0;34m(\u001b[0m\u001b[0mmode\u001b[0m\u001b[0;34m,\u001b[0m \u001b[0mcopy\u001b[0m\u001b[0;34m=\u001b[0m\u001b[0mcopy\u001b[0m\u001b[0;34m)\u001b[0m\u001b[0;34m\u001b[0m\u001b[0;34m\u001b[0m\u001b[0m\n\u001b[0m\u001b[1;32m    804\u001b[0m         \u001b[0;32mexcept\u001b[0m \u001b[0mzmq\u001b[0m\u001b[0;34m.\u001b[0m\u001b[0mZMQError\u001b[0m \u001b[0;32mas\u001b[0m \u001b[0me\u001b[0m\u001b[0;34m:\u001b[0m\u001b[0;34m\u001b[0m\u001b[0;34m\u001b[0m\u001b[0m\n",
            "\u001b[0;32m/usr/local/lib/python3.6/dist-packages/zmq/sugar/socket.py\u001b[0m in \u001b[0;36mrecv_multipart\u001b[0;34m(self, flags, copy, track)\u001b[0m\n\u001b[1;32m    465\u001b[0m         \"\"\"\n\u001b[0;32m--> 466\u001b[0;31m         \u001b[0mparts\u001b[0m \u001b[0;34m=\u001b[0m \u001b[0;34m[\u001b[0m\u001b[0mself\u001b[0m\u001b[0;34m.\u001b[0m\u001b[0mrecv\u001b[0m\u001b[0;34m(\u001b[0m\u001b[0mflags\u001b[0m\u001b[0;34m,\u001b[0m \u001b[0mcopy\u001b[0m\u001b[0;34m=\u001b[0m\u001b[0mcopy\u001b[0m\u001b[0;34m,\u001b[0m \u001b[0mtrack\u001b[0m\u001b[0;34m=\u001b[0m\u001b[0mtrack\u001b[0m\u001b[0;34m)\u001b[0m\u001b[0;34m]\u001b[0m\u001b[0;34m\u001b[0m\u001b[0;34m\u001b[0m\u001b[0m\n\u001b[0m\u001b[1;32m    467\u001b[0m         \u001b[0;31m# have first part already, only loop while more to receive\u001b[0m\u001b[0;34m\u001b[0m\u001b[0;34m\u001b[0m\u001b[0;34m\u001b[0m\u001b[0m\n",
            "\u001b[0;32mzmq/backend/cython/socket.pyx\u001b[0m in \u001b[0;36mzmq.backend.cython.socket.Socket.recv\u001b[0;34m()\u001b[0m\n",
            "\u001b[0;32mzmq/backend/cython/socket.pyx\u001b[0m in \u001b[0;36mzmq.backend.cython.socket.Socket.recv\u001b[0;34m()\u001b[0m\n",
            "\u001b[0;32mzmq/backend/cython/socket.pyx\u001b[0m in \u001b[0;36mzmq.backend.cython.socket._recv_copy\u001b[0;34m()\u001b[0m\n",
            "\u001b[0;32m/usr/local/lib/python3.6/dist-packages/zmq/backend/cython/checkrc.pxd\u001b[0m in \u001b[0;36mzmq.backend.cython.checkrc._check_rc\u001b[0;34m()\u001b[0m\n",
            "\u001b[0;31mKeyboardInterrupt\u001b[0m: ",
            "\nDuring handling of the above exception, another exception occurred:\n",
            "\u001b[0;31mKeyboardInterrupt\u001b[0m                         Traceback (most recent call last)",
            "\u001b[0;32m<ipython-input-45-6421a3d1a441>\u001b[0m in \u001b[0;36m<module>\u001b[0;34m()\u001b[0m\n\u001b[1;32m     13\u001b[0m   \u001b[0;32mwhile\u001b[0m \u001b[0;32mTrue\u001b[0m\u001b[0;34m:\u001b[0m\u001b[0;34m\u001b[0m\u001b[0;34m\u001b[0m\u001b[0m\n\u001b[1;32m     14\u001b[0m     \u001b[0mprint_options\u001b[0m\u001b[0;34m(\u001b[0m\u001b[0;34m)\u001b[0m\u001b[0;34m\u001b[0m\u001b[0;34m\u001b[0m\u001b[0m\n\u001b[0;32m---> 15\u001b[0;31m     \u001b[0mcode\u001b[0m \u001b[0;34m=\u001b[0m \u001b[0minput\u001b[0m\u001b[0;34m(\u001b[0m\u001b[0;34m'Enter a code from above:'\u001b[0m\u001b[0;34m)\u001b[0m\u001b[0;34m\u001b[0m\u001b[0;34m\u001b[0m\u001b[0m\n\u001b[0m\u001b[1;32m     16\u001b[0m     \u001b[0;32mif\u001b[0m \u001b[0mcode\u001b[0m \u001b[0;32min\u001b[0m \u001b[0;34m[\u001b[0m\u001b[0;34m'0'\u001b[0m\u001b[0;34m,\u001b[0m\u001b[0;34m'1'\u001b[0m\u001b[0;34m,\u001b[0m\u001b[0;34m'2'\u001b[0m\u001b[0;34m,\u001b[0m\u001b[0;34m'3'\u001b[0m\u001b[0;34m,\u001b[0m\u001b[0;34m'4'\u001b[0m\u001b[0;34m,\u001b[0m\u001b[0;34m'5'\u001b[0m\u001b[0;34m]\u001b[0m\u001b[0;34m:\u001b[0m\u001b[0;34m\u001b[0m\u001b[0;34m\u001b[0m\u001b[0m\n\u001b[1;32m     17\u001b[0m       \u001b[0mcode\u001b[0m \u001b[0;34m=\u001b[0m \u001b[0mint\u001b[0m\u001b[0;34m(\u001b[0m\u001b[0mcode\u001b[0m\u001b[0;34m)\u001b[0m\u001b[0;34m\u001b[0m\u001b[0;34m\u001b[0m\u001b[0m\n",
            "\u001b[0;32m/usr/local/lib/python3.6/dist-packages/ipykernel/kernelbase.py\u001b[0m in \u001b[0;36mraw_input\u001b[0;34m(self, prompt)\u001b[0m\n\u001b[1;32m    703\u001b[0m             \u001b[0mself\u001b[0m\u001b[0;34m.\u001b[0m\u001b[0m_parent_ident\u001b[0m\u001b[0;34m,\u001b[0m\u001b[0;34m\u001b[0m\u001b[0;34m\u001b[0m\u001b[0m\n\u001b[1;32m    704\u001b[0m             \u001b[0mself\u001b[0m\u001b[0;34m.\u001b[0m\u001b[0m_parent_header\u001b[0m\u001b[0;34m,\u001b[0m\u001b[0;34m\u001b[0m\u001b[0;34m\u001b[0m\u001b[0m\n\u001b[0;32m--> 705\u001b[0;31m             \u001b[0mpassword\u001b[0m\u001b[0;34m=\u001b[0m\u001b[0;32mFalse\u001b[0m\u001b[0;34m,\u001b[0m\u001b[0;34m\u001b[0m\u001b[0;34m\u001b[0m\u001b[0m\n\u001b[0m\u001b[1;32m    706\u001b[0m         )\n\u001b[1;32m    707\u001b[0m \u001b[0;34m\u001b[0m\u001b[0m\n",
            "\u001b[0;32m/usr/local/lib/python3.6/dist-packages/ipykernel/kernelbase.py\u001b[0m in \u001b[0;36m_input_request\u001b[0;34m(self, prompt, ident, parent, password)\u001b[0m\n\u001b[1;32m    733\u001b[0m             \u001b[0;32mexcept\u001b[0m \u001b[0mKeyboardInterrupt\u001b[0m\u001b[0;34m:\u001b[0m\u001b[0;34m\u001b[0m\u001b[0;34m\u001b[0m\u001b[0m\n\u001b[1;32m    734\u001b[0m                 \u001b[0;31m# re-raise KeyboardInterrupt, to truncate traceback\u001b[0m\u001b[0;34m\u001b[0m\u001b[0;34m\u001b[0m\u001b[0;34m\u001b[0m\u001b[0m\n\u001b[0;32m--> 735\u001b[0;31m                 \u001b[0;32mraise\u001b[0m \u001b[0mKeyboardInterrupt\u001b[0m\u001b[0;34m\u001b[0m\u001b[0;34m\u001b[0m\u001b[0m\n\u001b[0m\u001b[1;32m    736\u001b[0m             \u001b[0;32melse\u001b[0m\u001b[0;34m:\u001b[0m\u001b[0;34m\u001b[0m\u001b[0;34m\u001b[0m\u001b[0m\n\u001b[1;32m    737\u001b[0m                 \u001b[0;32mbreak\u001b[0m\u001b[0;34m\u001b[0m\u001b[0;34m\u001b[0m\u001b[0m\n",
            "\u001b[0;31mKeyboardInterrupt\u001b[0m: "
          ]
        }
      ]
    },
    {
      "cell_type": "code",
      "metadata": {
        "id": "YT9XoYSjXnQ1",
        "colab_type": "code",
        "outputId": "fe02ce7f-500c-46a5-9829-94b0a5a12cb2",
        "colab": {
          "base_uri": "https://localhost:8080/",
          "height": 772
        }
      },
      "source": [
        "print(\"Learn-A-Language - English\")\n",
        "\n",
        "while True:\n",
        "  print('\\nGenerating personalized sentence... Please Wait.')\n",
        "  sentence = generator.generate()\n",
        "  print(\"\\nTry this sentence:\")\n",
        "  print(sentence, '\\n')\n",
        "  speech = gTTS(text=sentence, lang='en', slow=False)\n",
        "  filename = sentence.replace(' ', '') + '.mp3'\n",
        "  speech.save(filename)\n",
        "  Audio(filename=filename, autoplay=False)\n",
        "\n",
        "  while True:\n",
        "    print_options()\n",
        "    Audio(filename=filename, autoplay=False)\n",
        "    code = input('Enter a code from above:')\n",
        "    if code in ['0','1','2','3','4','5']:\n",
        "      code = int(code)\n",
        "      break\n",
        "    print('')\n",
        "  \n",
        "  if code == 0:\n",
        "    print('\\nI\\'m Sorry! This is as good as it gets...')\n",
        "  elif code == 1:\n",
        "    print('\\nI\\'m Sorry! This functionality isn\\'t currently available.')\n",
        "  elif code == 2:\n",
        "    print('\\nNew sentence coming right up!')\n",
        "  elif code == 3:\n",
        "    print('\\nI\\'m Sorry! This functionality isn\\'t currently available.')\n",
        "  elif code == 4:\n",
        "    print('\\nGreat Job! Here\\'s another.')\n",
        "  else:\n",
        "    print('\\nThanks for using Learn-A-Language! Play again soon!')\n",
        "    break"
      ],
      "execution_count": 0,
      "outputs": [
        {
          "output_type": "stream",
          "text": [
            "Learn-A-Language - English\n",
            "\n",
            "Generating personalized sentence... Please Wait.\n",
            "\n",
            "Try this sentence:\n",
            "He did not like the sound of it  \n",
            "\n",
            "0: I don't know what this means.\n",
            "1: Choose words I don't know.\n",
            "2: Generate a better sentence.\n",
            "3: I need definitions.\n",
            "4: I understand! Give me another!\n",
            "5: Exit: I've learned enough for today.\n"
          ],
          "name": "stdout"
        },
        {
          "output_type": "error",
          "ename": "KeyboardInterrupt",
          "evalue": "ignored",
          "traceback": [
            "\u001b[0;31m---------------------------------------------------------------------------\u001b[0m",
            "\u001b[0;31mKeyboardInterrupt\u001b[0m                         Traceback (most recent call last)",
            "\u001b[0;32m/usr/local/lib/python3.6/dist-packages/ipykernel/kernelbase.py\u001b[0m in \u001b[0;36m_input_request\u001b[0;34m(self, prompt, ident, parent, password)\u001b[0m\n\u001b[1;32m    729\u001b[0m             \u001b[0;32mtry\u001b[0m\u001b[0;34m:\u001b[0m\u001b[0;34m\u001b[0m\u001b[0;34m\u001b[0m\u001b[0m\n\u001b[0;32m--> 730\u001b[0;31m                 \u001b[0mident\u001b[0m\u001b[0;34m,\u001b[0m \u001b[0mreply\u001b[0m \u001b[0;34m=\u001b[0m \u001b[0mself\u001b[0m\u001b[0;34m.\u001b[0m\u001b[0msession\u001b[0m\u001b[0;34m.\u001b[0m\u001b[0mrecv\u001b[0m\u001b[0;34m(\u001b[0m\u001b[0mself\u001b[0m\u001b[0;34m.\u001b[0m\u001b[0mstdin_socket\u001b[0m\u001b[0;34m,\u001b[0m \u001b[0;36m0\u001b[0m\u001b[0;34m)\u001b[0m\u001b[0;34m\u001b[0m\u001b[0;34m\u001b[0m\u001b[0m\n\u001b[0m\u001b[1;32m    731\u001b[0m             \u001b[0;32mexcept\u001b[0m \u001b[0mException\u001b[0m\u001b[0;34m:\u001b[0m\u001b[0;34m\u001b[0m\u001b[0;34m\u001b[0m\u001b[0m\n",
            "\u001b[0;32m/usr/local/lib/python3.6/dist-packages/jupyter_client/session.py\u001b[0m in \u001b[0;36mrecv\u001b[0;34m(self, socket, mode, content, copy)\u001b[0m\n\u001b[1;32m    802\u001b[0m         \u001b[0;32mtry\u001b[0m\u001b[0;34m:\u001b[0m\u001b[0;34m\u001b[0m\u001b[0;34m\u001b[0m\u001b[0m\n\u001b[0;32m--> 803\u001b[0;31m             \u001b[0mmsg_list\u001b[0m \u001b[0;34m=\u001b[0m \u001b[0msocket\u001b[0m\u001b[0;34m.\u001b[0m\u001b[0mrecv_multipart\u001b[0m\u001b[0;34m(\u001b[0m\u001b[0mmode\u001b[0m\u001b[0;34m,\u001b[0m \u001b[0mcopy\u001b[0m\u001b[0;34m=\u001b[0m\u001b[0mcopy\u001b[0m\u001b[0;34m)\u001b[0m\u001b[0;34m\u001b[0m\u001b[0;34m\u001b[0m\u001b[0m\n\u001b[0m\u001b[1;32m    804\u001b[0m         \u001b[0;32mexcept\u001b[0m \u001b[0mzmq\u001b[0m\u001b[0;34m.\u001b[0m\u001b[0mZMQError\u001b[0m \u001b[0;32mas\u001b[0m \u001b[0me\u001b[0m\u001b[0;34m:\u001b[0m\u001b[0;34m\u001b[0m\u001b[0;34m\u001b[0m\u001b[0m\n",
            "\u001b[0;32m/usr/local/lib/python3.6/dist-packages/zmq/sugar/socket.py\u001b[0m in \u001b[0;36mrecv_multipart\u001b[0;34m(self, flags, copy, track)\u001b[0m\n\u001b[1;32m    465\u001b[0m         \"\"\"\n\u001b[0;32m--> 466\u001b[0;31m         \u001b[0mparts\u001b[0m \u001b[0;34m=\u001b[0m \u001b[0;34m[\u001b[0m\u001b[0mself\u001b[0m\u001b[0;34m.\u001b[0m\u001b[0mrecv\u001b[0m\u001b[0;34m(\u001b[0m\u001b[0mflags\u001b[0m\u001b[0;34m,\u001b[0m \u001b[0mcopy\u001b[0m\u001b[0;34m=\u001b[0m\u001b[0mcopy\u001b[0m\u001b[0;34m,\u001b[0m \u001b[0mtrack\u001b[0m\u001b[0;34m=\u001b[0m\u001b[0mtrack\u001b[0m\u001b[0;34m)\u001b[0m\u001b[0;34m]\u001b[0m\u001b[0;34m\u001b[0m\u001b[0;34m\u001b[0m\u001b[0m\n\u001b[0m\u001b[1;32m    467\u001b[0m         \u001b[0;31m# have first part already, only loop while more to receive\u001b[0m\u001b[0;34m\u001b[0m\u001b[0;34m\u001b[0m\u001b[0;34m\u001b[0m\u001b[0m\n",
            "\u001b[0;32mzmq/backend/cython/socket.pyx\u001b[0m in \u001b[0;36mzmq.backend.cython.socket.Socket.recv\u001b[0;34m()\u001b[0m\n",
            "\u001b[0;32mzmq/backend/cython/socket.pyx\u001b[0m in \u001b[0;36mzmq.backend.cython.socket.Socket.recv\u001b[0;34m()\u001b[0m\n",
            "\u001b[0;32mzmq/backend/cython/socket.pyx\u001b[0m in \u001b[0;36mzmq.backend.cython.socket._recv_copy\u001b[0;34m()\u001b[0m\n",
            "\u001b[0;32m/usr/local/lib/python3.6/dist-packages/zmq/backend/cython/checkrc.pxd\u001b[0m in \u001b[0;36mzmq.backend.cython.checkrc._check_rc\u001b[0;34m()\u001b[0m\n",
            "\u001b[0;31mKeyboardInterrupt\u001b[0m: ",
            "\nDuring handling of the above exception, another exception occurred:\n",
            "\u001b[0;31mKeyboardInterrupt\u001b[0m                         Traceback (most recent call last)",
            "\u001b[0;32m<ipython-input-45-6421a3d1a441>\u001b[0m in \u001b[0;36m<module>\u001b[0;34m()\u001b[0m\n\u001b[1;32m     13\u001b[0m   \u001b[0;32mwhile\u001b[0m \u001b[0;32mTrue\u001b[0m\u001b[0;34m:\u001b[0m\u001b[0;34m\u001b[0m\u001b[0;34m\u001b[0m\u001b[0m\n\u001b[1;32m     14\u001b[0m     \u001b[0mprint_options\u001b[0m\u001b[0;34m(\u001b[0m\u001b[0;34m)\u001b[0m\u001b[0;34m\u001b[0m\u001b[0;34m\u001b[0m\u001b[0m\n\u001b[0;32m---> 15\u001b[0;31m     \u001b[0mcode\u001b[0m \u001b[0;34m=\u001b[0m \u001b[0minput\u001b[0m\u001b[0;34m(\u001b[0m\u001b[0;34m'Enter a code from above:'\u001b[0m\u001b[0;34m)\u001b[0m\u001b[0;34m\u001b[0m\u001b[0;34m\u001b[0m\u001b[0m\n\u001b[0m\u001b[1;32m     16\u001b[0m     \u001b[0;32mif\u001b[0m \u001b[0mcode\u001b[0m \u001b[0;32min\u001b[0m \u001b[0;34m[\u001b[0m\u001b[0;34m'0'\u001b[0m\u001b[0;34m,\u001b[0m\u001b[0;34m'1'\u001b[0m\u001b[0;34m,\u001b[0m\u001b[0;34m'2'\u001b[0m\u001b[0;34m,\u001b[0m\u001b[0;34m'3'\u001b[0m\u001b[0;34m,\u001b[0m\u001b[0;34m'4'\u001b[0m\u001b[0;34m,\u001b[0m\u001b[0;34m'5'\u001b[0m\u001b[0;34m]\u001b[0m\u001b[0;34m:\u001b[0m\u001b[0;34m\u001b[0m\u001b[0;34m\u001b[0m\u001b[0m\n\u001b[1;32m     17\u001b[0m       \u001b[0mcode\u001b[0m \u001b[0;34m=\u001b[0m \u001b[0mint\u001b[0m\u001b[0;34m(\u001b[0m\u001b[0mcode\u001b[0m\u001b[0;34m)\u001b[0m\u001b[0;34m\u001b[0m\u001b[0;34m\u001b[0m\u001b[0m\n",
            "\u001b[0;32m/usr/local/lib/python3.6/dist-packages/ipykernel/kernelbase.py\u001b[0m in \u001b[0;36mraw_input\u001b[0;34m(self, prompt)\u001b[0m\n\u001b[1;32m    703\u001b[0m             \u001b[0mself\u001b[0m\u001b[0;34m.\u001b[0m\u001b[0m_parent_ident\u001b[0m\u001b[0;34m,\u001b[0m\u001b[0;34m\u001b[0m\u001b[0;34m\u001b[0m\u001b[0m\n\u001b[1;32m    704\u001b[0m             \u001b[0mself\u001b[0m\u001b[0;34m.\u001b[0m\u001b[0m_parent_header\u001b[0m\u001b[0;34m,\u001b[0m\u001b[0;34m\u001b[0m\u001b[0;34m\u001b[0m\u001b[0m\n\u001b[0;32m--> 705\u001b[0;31m             \u001b[0mpassword\u001b[0m\u001b[0;34m=\u001b[0m\u001b[0;32mFalse\u001b[0m\u001b[0;34m,\u001b[0m\u001b[0;34m\u001b[0m\u001b[0;34m\u001b[0m\u001b[0m\n\u001b[0m\u001b[1;32m    706\u001b[0m         )\n\u001b[1;32m    707\u001b[0m \u001b[0;34m\u001b[0m\u001b[0m\n",
            "\u001b[0;32m/usr/local/lib/python3.6/dist-packages/ipykernel/kernelbase.py\u001b[0m in \u001b[0;36m_input_request\u001b[0;34m(self, prompt, ident, parent, password)\u001b[0m\n\u001b[1;32m    733\u001b[0m             \u001b[0;32mexcept\u001b[0m \u001b[0mKeyboardInterrupt\u001b[0m\u001b[0;34m:\u001b[0m\u001b[0;34m\u001b[0m\u001b[0;34m\u001b[0m\u001b[0m\n\u001b[1;32m    734\u001b[0m                 \u001b[0;31m# re-raise KeyboardInterrupt, to truncate traceback\u001b[0m\u001b[0;34m\u001b[0m\u001b[0;34m\u001b[0m\u001b[0;34m\u001b[0m\u001b[0m\n\u001b[0;32m--> 735\u001b[0;31m                 \u001b[0;32mraise\u001b[0m \u001b[0mKeyboardInterrupt\u001b[0m\u001b[0;34m\u001b[0m\u001b[0;34m\u001b[0m\u001b[0m\n\u001b[0m\u001b[1;32m    736\u001b[0m             \u001b[0;32melse\u001b[0m\u001b[0;34m:\u001b[0m\u001b[0;34m\u001b[0m\u001b[0;34m\u001b[0m\u001b[0m\n\u001b[1;32m    737\u001b[0m                 \u001b[0;32mbreak\u001b[0m\u001b[0;34m\u001b[0m\u001b[0;34m\u001b[0m\u001b[0m\n",
            "\u001b[0;31mKeyboardInterrupt\u001b[0m: "
          ]
        }
      ]
    }
  ]
}